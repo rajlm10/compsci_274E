{
  "nbformat": 4,
  "nbformat_minor": 0,
  "metadata": {
    "colab": {
      "provenance": [],
      "gpuType": "T4"
    },
    "kernelspec": {
      "name": "python3",
      "display_name": "Python 3"
    },
    "language_info": {
      "name": "python"
    },
    "accelerator": "GPU"
  },
  "cells": [
    {
      "cell_type": "markdown",
      "source": [
        "#Install conda and set up evaluation scripts"
      ],
      "metadata": {
        "id": "_M3utyFW-XMJ"
      }
    },
    {
      "cell_type": "code",
      "execution_count": 1,
      "metadata": {
        "colab": {
          "base_uri": "https://localhost:8080/"
        },
        "id": "3Qlxyl3ovr32",
        "outputId": "a0e433df-1da1-4fb6-aca5-b9e40000f2bc"
      },
      "outputs": [
        {
          "output_type": "stream",
          "name": "stdout",
          "text": [
            "env: PYTHONPATH=\n"
          ]
        }
      ],
      "source": [
        "%env PYTHONPATH=\n"
      ]
    },
    {
      "cell_type": "code",
      "source": [
        "! wget https://repo.anaconda.com/miniconda/Miniconda3-py310_23.10.0-1-Linux-x86_64.sh\n",
        "! chmod +x Miniconda3-py310_23.10.0-1-Linux-x86_64.sh\n",
        "! bash ./Miniconda3-py310_23.10.0-1-Linux-x86_64.sh -b -f -p /usr/local/"
      ],
      "metadata": {
        "colab": {
          "base_uri": "https://localhost:8080/"
        },
        "id": "WHgQoPYpw4hD",
        "outputId": "603a2fe0-05b0-4ee0-84b0-f6d887cb1d25"
      },
      "execution_count": 2,
      "outputs": [
        {
          "output_type": "stream",
          "name": "stdout",
          "text": [
            "--2023-12-06 06:17:17--  https://repo.anaconda.com/miniconda/Miniconda3-py310_23.10.0-1-Linux-x86_64.sh\n",
            "Resolving repo.anaconda.com (repo.anaconda.com)... 104.16.131.3, 104.16.130.3, 2606:4700::6810:8303, ...\n",
            "Connecting to repo.anaconda.com (repo.anaconda.com)|104.16.131.3|:443... connected.\n",
            "HTTP request sent, awaiting response... 200 OK\n",
            "Length: 113756773 (108M) [application/x-sh]\n",
            "Saving to: ‘Miniconda3-py310_23.10.0-1-Linux-x86_64.sh’\n",
            "\n",
            "Miniconda3-py310_23 100%[===================>] 108.49M   148MB/s    in 0.7s    \n",
            "\n",
            "2023-12-06 06:17:18 (148 MB/s) - ‘Miniconda3-py310_23.10.0-1-Linux-x86_64.sh’ saved [113756773/113756773]\n",
            "\n",
            "PREFIX=/usr/local\n",
            "Unpacking payload ...\n",
            "                                                                                 \n",
            "Installing base environment...\n",
            "\n",
            "\n",
            "Downloading and Extracting Packages\n",
            "\n",
            "\n",
            "Downloading and Extracting Packages\n",
            "\n",
            "Preparing transaction: - \b\b\\ \b\b| \b\b/ \b\b- \b\bdone\n",
            "Executing transaction: | \b\b/ \b\b- \b\b\\ \b\b| \b\b/ \b\b- \b\b\\ \b\b| \b\b/ \b\b- \b\b\\ \b\b| \b\b/ \b\b- \b\b\\ \b\b| \b\b/ \b\b- \b\b\\ \b\b| \b\b/ \b\b- \b\b\\ \b\bdone\n",
            "installation finished.\n"
          ]
        }
      ]
    },
    {
      "cell_type": "code",
      "source": [
        "!git clone https://github.com/XavierXiao/Dreambooth-Stable-Diffusion.git\n",
        "%cd Dreambooth-Stable-Diffusion"
      ],
      "metadata": {
        "colab": {
          "base_uri": "https://localhost:8080/"
        },
        "id": "TS467iUVxgiS",
        "outputId": "19df586e-36a6-422e-85b4-c3b1a78f363a"
      },
      "execution_count": 3,
      "outputs": [
        {
          "output_type": "stream",
          "name": "stdout",
          "text": [
            "Cloning into 'Dreambooth-Stable-Diffusion'...\n",
            "remote: Enumerating objects: 295, done.\u001b[K\n",
            "remote: Total 295 (delta 0), reused 0 (delta 0), pack-reused 295\u001b[K\n",
            "Receiving objects: 100% (295/295), 5.94 MiB | 18.20 MiB/s, done.\n",
            "Resolving deltas: 100% (119/119), done.\n",
            "/content/Dreambooth-Stable-Diffusion\n"
          ]
        }
      ]
    },
    {
      "cell_type": "code",
      "source": [
        "%%bash\n",
        "conda env create -f environment.yaml\n",
        "source activate ldm"
      ],
      "metadata": {
        "colab": {
          "base_uri": "https://localhost:8080/"
        },
        "id": "evctfsK-xvQD",
        "outputId": "aff0cd2d-a2f3-4c7b-824a-c129c9b7402a"
      },
      "execution_count": 4,
      "outputs": [
        {
          "output_type": "stream",
          "name": "stdout",
          "text": [
            "Channels:\n",
            " - pytorch\n",
            " - defaults\n",
            "Platform: linux-64\n",
            "Collecting package metadata (repodata.json): ...working... done\n",
            "Solving environment: ...working... done\n",
            "\n",
            "Downloading and Extracting Packages: ...working... done\n",
            "Preparing transaction: ...working... done\n",
            "Verifying transaction: ...working... done\n",
            "Executing transaction: ...working... By downloading and using the CUDA Toolkit conda packages, you accept the terms and conditions of the CUDA End User License Agreement (EULA): https://docs.nvidia.com/cuda/eula/index.html\n",
            "\n",
            "done\n",
            "Installing pip dependencies: ...working... Ran pip subprocess with arguments:\n",
            "['/usr/local/envs/ldm/bin/python', '-m', 'pip', 'install', '-U', '-r', '/content/Dreambooth-Stable-Diffusion/condaenv.92o3ijsc.requirements.txt', '--exists-action=b']\n",
            "Pip subprocess output:\n",
            "Obtaining taming-transformers from git+https://github.com/CompVis/taming-transformers.git@master#egg=taming-transformers (from -r /content/Dreambooth-Stable-Diffusion/condaenv.92o3ijsc.requirements.txt (line 17))\n",
            "  Cloning https://github.com/CompVis/taming-transformers.git (to revision master) to ./src/taming-transformers\n",
            "Obtaining clip from git+https://github.com/openai/CLIP.git@main#egg=clip (from -r /content/Dreambooth-Stable-Diffusion/condaenv.92o3ijsc.requirements.txt (line 18))\n",
            "  Cloning https://github.com/openai/CLIP.git (to revision main) to ./src/clip\n",
            "Obtaining file:///content/Dreambooth-Stable-Diffusion (from -r /content/Dreambooth-Stable-Diffusion/condaenv.92o3ijsc.requirements.txt (line 19))\n",
            "Requirement already satisfied: torch in /usr/local/envs/ldm/lib/python3.8/site-packages (from clip->-r /content/Dreambooth-Stable-Diffusion/condaenv.92o3ijsc.requirements.txt (line 18)) (1.10.2)\n",
            "Requirement already satisfied: torchvision in /usr/local/envs/ldm/lib/python3.8/site-packages (from clip->-r /content/Dreambooth-Stable-Diffusion/condaenv.92o3ijsc.requirements.txt (line 18)) (0.11.3)\n",
            "Requirement already satisfied: numpy in /usr/local/envs/ldm/lib/python3.8/site-packages (from latent-diffusion==0.0.1->-r /content/Dreambooth-Stable-Diffusion/condaenv.92o3ijsc.requirements.txt (line 19)) (1.22.3)\n",
            "Collecting albumentations==1.1.0\n",
            "  Downloading albumentations-1.1.0-py3-none-any.whl (102 kB)\n",
            "Collecting einops==0.4.1\n",
            "  Downloading einops-0.4.1-py3-none-any.whl (28 kB)\n",
            "Collecting imageio==2.14.1\n",
            "  Downloading imageio-2.14.1-py3-none-any.whl (3.3 MB)\n",
            "Collecting imageio-ffmpeg==0.4.7\n",
            "  Downloading imageio_ffmpeg-0.4.7-py3-none-manylinux2010_x86_64.whl (26.9 MB)\n",
            "Collecting kornia==0.6\n",
            "  Downloading kornia-0.6.0-py2.py3-none-any.whl (367 kB)\n",
            "Collecting omegaconf==2.1.1\n",
            "  Downloading omegaconf-2.1.1-py3-none-any.whl (74 kB)\n",
            "Collecting opencv-python==4.2.0.34\n",
            "  Downloading opencv_python-4.2.0.34-cp38-cp38-manylinux1_x86_64.whl (28.2 MB)\n",
            "Collecting pillow==9.0.1\n",
            "  Downloading Pillow-9.0.1-cp38-cp38-manylinux_2_17_x86_64.manylinux2014_x86_64.whl (4.3 MB)\n",
            "Collecting pudb==2019.2\n",
            "  Downloading pudb-2019.2.tar.gz (59 kB)\n",
            "Collecting pytorch-lightning==1.5.9\n",
            "  Downloading pytorch_lightning-1.5.9-py3-none-any.whl (527 kB)\n",
            "Requirement already satisfied: typing-extensions in /usr/local/envs/ldm/lib/python3.8/site-packages (from pytorch-lightning==1.5.9->-r /content/Dreambooth-Stable-Diffusion/condaenv.92o3ijsc.requirements.txt (line 6)) (4.7.1)\n",
            "Collecting torch-fidelity==0.3.0\n",
            "  Downloading torch_fidelity-0.3.0-py3-none-any.whl (37 kB)\n",
            "Collecting torchmetrics==0.6.0\n",
            "  Downloading torchmetrics-0.6.0-py3-none-any.whl (329 kB)\n",
            "Collecting transformers==4.18.0\n",
            "  Downloading transformers-4.18.0-py3-none-any.whl (4.0 MB)\n",
            "Collecting antlr4-python3-runtime==4.8\n",
            "  Downloading antlr4-python3-runtime-4.8.tar.gz (112 kB)\n",
            "Collecting pyDeprecate==0.3.1\n",
            "  Downloading pyDeprecate-0.3.1-py3-none-any.whl (10 kB)\n",
            "Collecting streamlit>=0.73.1\n",
            "  Downloading streamlit-1.29.0-py2.py3-none-any.whl (8.4 MB)\n",
            "Collecting test-tube>=0.7.5\n",
            "  Downloading test_tube-0.7.5.tar.gz (21 kB)\n",
            "Collecting altair<6,>=4.0\n",
            "  Downloading altair-5.2.0-py3-none-any.whl (996 kB)\n",
            "Collecting blinker<2,>=1.0.0\n",
            "  Downloading blinker-1.7.0-py3-none-any.whl (13 kB)\n",
            "Collecting cachetools<6,>=4.0\n",
            "  Downloading cachetools-5.3.2-py3-none-any.whl (9.3 kB)\n",
            "Collecting click<9,>=7.0\n",
            "  Downloading click-8.1.7-py3-none-any.whl (97 kB)\n",
            "Collecting fsspec[http]!=2021.06.0,>=2021.05.0\n",
            "  Downloading fsspec-2023.12.1-py3-none-any.whl (168 kB)\n",
            "Collecting aiohttp!=4.0.0a0,!=4.0.0a1\n",
            "  Downloading aiohttp-3.9.1-cp38-cp38-manylinux_2_17_x86_64.manylinux2014_x86_64.whl (1.3 MB)\n",
            "Collecting aiosignal>=1.1.2\n",
            "  Downloading aiosignal-1.3.1-py3-none-any.whl (7.6 kB)\n",
            "Collecting async-timeout<5.0,>=4.0\n",
            "  Downloading async_timeout-4.0.3-py3-none-any.whl (5.7 kB)\n",
            "Collecting attrs>=17.3.0\n",
            "  Downloading attrs-23.1.0-py3-none-any.whl (61 kB)\n",
            "Collecting frozenlist>=1.1.1\n",
            "  Downloading frozenlist-1.4.0-cp38-cp38-manylinux_2_5_x86_64.manylinux1_x86_64.manylinux_2_17_x86_64.manylinux2014_x86_64.whl (220 kB)\n",
            "Collecting future>=0.17.1\n",
            "  Downloading future-0.18.3.tar.gz (840 kB)\n",
            "Collecting gitpython!=3.1.19,<4,>=3.0.7\n",
            "  Downloading GitPython-3.1.40-py3-none-any.whl (190 kB)\n",
            "Collecting gitdb<5,>=4.0.1\n",
            "  Downloading gitdb-4.0.11-py3-none-any.whl (62 kB)\n",
            "Collecting huggingface-hub<1.0,>=0.1.0\n",
            "  Downloading huggingface_hub-0.19.4-py3-none-any.whl (311 kB)\n",
            "Collecting importlib-metadata<7,>=1.4\n",
            "  Downloading importlib_metadata-6.11.0-py3-none-any.whl (23 kB)\n",
            "Collecting jsonschema>=3.0\n",
            "  Downloading jsonschema-4.20.0-py3-none-any.whl (84 kB)\n",
            "Collecting importlib-resources>=1.4.0\n",
            "  Downloading importlib_resources-6.1.1-py3-none-any.whl (33 kB)\n",
            "Collecting jsonschema-specifications>=2023.03.6\n",
            "  Downloading jsonschema_specifications-2023.11.2-py3-none-any.whl (17 kB)\n",
            "Collecting multidict<7.0,>=4.5\n",
            "  Downloading multidict-6.0.4-cp38-cp38-manylinux_2_17_x86_64.manylinux2014_x86_64.whl (121 kB)\n",
            "Collecting opencv-python-headless>=4.1.1\n",
            "  Downloading opencv_python_headless-4.8.1.78-cp37-abi3-manylinux_2_17_x86_64.manylinux2014_x86_64.whl (49.1 MB)\n",
            "Collecting packaging\n",
            "  Downloading packaging-23.2-py3-none-any.whl (53 kB)\n",
            "Collecting pandas<3,>=1.3.0\n",
            "  Downloading pandas-2.0.3-cp38-cp38-manylinux_2_17_x86_64.manylinux2014_x86_64.whl (12.4 MB)\n",
            "Collecting pkgutil-resolve-name>=1.3.10\n",
            "  Downloading pkgutil_resolve_name-1.3.10-py3-none-any.whl (4.7 kB)\n",
            "Collecting protobuf<5,>=3.20\n",
            "  Downloading protobuf-4.25.1-cp37-abi3-manylinux2014_x86_64.whl (294 kB)\n",
            "Collecting pyarrow>=6.0\n",
            "  Downloading pyarrow-14.0.1-cp38-cp38-manylinux_2_28_x86_64.whl (38.1 MB)\n",
            "Collecting pydeck<1,>=0.8.0b4\n",
            "  Downloading pydeck-0.8.1b0-py2.py3-none-any.whl (4.8 MB)\n",
            "Collecting jinja2\n",
            "  Downloading Jinja2-3.1.2-py3-none-any.whl (133 kB)\n",
            "Collecting MarkupSafe>=2.0\n",
            "  Downloading MarkupSafe-2.1.3-cp38-cp38-manylinux_2_17_x86_64.manylinux2014_x86_64.whl (25 kB)\n",
            "Collecting pygments>=1.0\n",
            "  Downloading pygments-2.17.2-py3-none-any.whl (1.2 MB)\n",
            "Collecting python-dateutil<3,>=2.7.3\n",
            "  Downloading python_dateutil-2.8.2-py2.py3-none-any.whl (247 kB)\n",
            "Requirement already satisfied: six>=1.5 in /usr/local/envs/ldm/lib/python3.8/site-packages (from python-dateutil<3,>=2.7.3->streamlit>=0.73.1->-r /content/Dreambooth-Stable-Diffusion/condaenv.92o3ijsc.requirements.txt (line 9)) (1.16.0)\n",
            "Collecting pytz>=2020.1\n",
            "  Downloading pytz-2023.3.post1-py2.py3-none-any.whl (502 kB)\n",
            "Collecting PyYAML\n",
            "  Downloading PyYAML-6.0.1-cp38-cp38-manylinux_2_17_x86_64.manylinux2014_x86_64.whl (736 kB)\n",
            "Collecting qudida>=0.0.4\n",
            "  Downloading qudida-0.0.4-py3-none-any.whl (3.5 kB)\n",
            "Collecting referencing>=0.28.4\n",
            "  Downloading referencing-0.31.1-py3-none-any.whl (25 kB)\n",
            "Collecting regex\n",
            "  Downloading regex-2023.10.3-cp38-cp38-manylinux_2_17_x86_64.manylinux2014_x86_64.whl (776 kB)\n",
            "Collecting requests\n",
            "  Downloading requests-2.31.0-py3-none-any.whl (62 kB)\n",
            "Collecting certifi>=2017.4.17\n",
            "  Downloading certifi-2023.11.17-py3-none-any.whl (162 kB)\n",
            "Collecting charset-normalizer<4,>=2\n",
            "  Downloading charset_normalizer-3.3.2-cp38-cp38-manylinux_2_17_x86_64.manylinux2014_x86_64.whl (141 kB)\n",
            "Collecting idna<4,>=2.5\n",
            "  Downloading idna-3.6-py3-none-any.whl (61 kB)\n",
            "Collecting rich<14,>=10.14.0\n",
            "  Downloading rich-13.7.0-py3-none-any.whl (240 kB)\n",
            "Collecting markdown-it-py>=2.2.0\n",
            "  Downloading markdown_it_py-3.0.0-py3-none-any.whl (87 kB)\n",
            "Collecting mdurl~=0.1\n",
            "  Downloading mdurl-0.1.2-py3-none-any.whl (10.0 kB)\n",
            "Collecting rpds-py>=0.7.1\n",
            "  Downloading rpds_py-0.13.2-cp38-cp38-manylinux_2_17_x86_64.manylinux2014_x86_64.whl (1.2 MB)\n",
            "Collecting scikit-image>=0.16.1\n",
            "  Downloading scikit_image-0.21.0-cp38-cp38-manylinux_2_17_x86_64.manylinux2014_x86_64.whl (13.9 MB)\n",
            "  Downloading scikit_image-0.20.0-cp38-cp38-manylinux_2_17_x86_64.manylinux2014_x86_64.whl (13.4 MB)\n",
            "Collecting lazy_loader>=0.2\n",
            "  Downloading lazy_loader-0.3-py3-none-any.whl (9.1 kB)\n",
            "Collecting networkx>=2.8\n",
            "  Downloading networkx-3.1-py3-none-any.whl (2.1 MB)\n",
            "Collecting PyWavelets>=1.1.1\n",
            "  Downloading PyWavelets-1.4.1-cp38-cp38-manylinux_2_17_x86_64.manylinux2014_x86_64.whl (6.9 MB)\n",
            "Collecting scikit-learn>=0.19.1\n",
            "  Downloading scikit_learn-1.3.2-cp38-cp38-manylinux_2_17_x86_64.manylinux2014_x86_64.whl (11.1 MB)\n",
            "Collecting joblib>=1.1.1\n",
            "  Downloading joblib-1.3.2-py3-none-any.whl (302 kB)\n",
            "Collecting scipy\n",
            "  Downloading scipy-1.9.1-cp38-cp38-manylinux_2_17_x86_64.manylinux2014_x86_64.whl (43.4 MB)\n",
            "Collecting smmap<6,>=3.0.1\n",
            "  Downloading smmap-5.0.1-py3-none-any.whl (24 kB)\n",
            "Collecting tenacity<9,>=8.1.0\n",
            "  Downloading tenacity-8.2.3-py3-none-any.whl (24 kB)\n",
            "Collecting tensorboard>=2.2.0\n",
            "  Downloading tensorboard-2.14.0-py3-none-any.whl (5.5 MB)\n",
            "Requirement already satisfied: wheel>=0.26 in /usr/local/envs/ldm/lib/python3.8/site-packages (from tensorboard>=2.2.0->pytorch-lightning==1.5.9->-r /content/Dreambooth-Stable-Diffusion/condaenv.92o3ijsc.requirements.txt (line 6)) (0.41.2)\n",
            "Collecting absl-py>=0.4\n",
            "  Downloading absl_py-2.0.0-py3-none-any.whl (130 kB)\n",
            "Collecting google-auth<3,>=1.6.3\n",
            "  Downloading google_auth-2.25.1-py2.py3-none-any.whl (184 kB)\n",
            "Collecting google-auth-oauthlib<1.1,>=0.5\n",
            "  Downloading google_auth_oauthlib-1.0.0-py2.py3-none-any.whl (18 kB)\n",
            "Collecting grpcio>=1.48.2\n",
            "  Downloading grpcio-1.59.3-cp38-cp38-manylinux_2_17_x86_64.manylinux2014_x86_64.whl (5.3 MB)\n",
            "Collecting markdown>=2.6.8\n",
            "  Downloading Markdown-3.5.1-py3-none-any.whl (102 kB)\n",
            "Collecting pyasn1-modules>=0.2.1\n",
            "  Downloading pyasn1_modules-0.3.0-py2.py3-none-any.whl (181 kB)\n",
            "Collecting pyasn1<0.6.0,>=0.4.6\n",
            "  Downloading pyasn1-0.5.1-py2.py3-none-any.whl (84 kB)\n",
            "Collecting requests-oauthlib>=0.7.0\n",
            "  Downloading requests_oauthlib-1.3.1-py2.py3-none-any.whl (23 kB)\n",
            "Collecting oauthlib>=3.0.0\n",
            "  Downloading oauthlib-3.2.2-py3-none-any.whl (151 kB)\n",
            "Collecting rsa<5,>=3.1.4\n",
            "  Downloading rsa-4.9-py3-none-any.whl (34 kB)\n",
            "Collecting tensorboard-data-server<0.8.0,>=0.7.0\n",
            "  Downloading tensorboard_data_server-0.7.2-py3-none-manylinux_2_31_x86_64.whl (6.6 MB)\n",
            "Collecting threadpoolctl>=2.0.0\n",
            "  Downloading threadpoolctl-3.2.0-py3-none-any.whl (15 kB)\n",
            "Collecting tifffile>=2022.8.12\n",
            "  Downloading tifffile-2023.7.10-py3-none-any.whl (220 kB)\n",
            "Collecting tokenizers!=0.11.3,<0.13,>=0.11.1\n",
            "  Downloading tokenizers-0.12.1-cp38-cp38-manylinux_2_12_x86_64.manylinux2010_x86_64.whl (6.6 MB)\n",
            "Collecting toml<2,>=0.10.1\n",
            "  Downloading toml-0.10.2-py2.py3-none-any.whl (16 kB)\n",
            "Collecting tornado<7,>=6.0.3\n",
            "  Downloading tornado-6.4-cp38-abi3-manylinux_2_5_x86_64.manylinux1_x86_64.manylinux_2_17_x86_64.manylinux2014_x86_64.whl (435 kB)\n",
            "Collecting tqdm\n",
            "  Downloading tqdm-4.66.1-py3-none-any.whl (78 kB)\n",
            "Collecting tzdata>=2022.1\n",
            "  Downloading tzdata-2023.3-py2.py3-none-any.whl (341 kB)\n",
            "Collecting tzlocal<6,>=1.1\n",
            "  Downloading tzlocal-5.2-py3-none-any.whl (17 kB)\n",
            "Collecting urllib3<3,>=1.21.1\n",
            "  Downloading urllib3-2.1.0-py3-none-any.whl (104 kB)\n",
            "Collecting urwid>=1.1.1\n",
            "  Downloading urwid-2.3.4-cp38-cp38-manylinux_2_5_x86_64.manylinux1_x86_64.manylinux_2_17_x86_64.manylinux2014_x86_64.whl (274 kB)\n",
            "Collecting validators<1,>=0.2\n",
            "  Downloading validators-0.22.0-py3-none-any.whl (26 kB)\n",
            "Collecting watchdog>=2.1.5\n",
            "  Downloading watchdog-3.0.0-py3-none-manylinux2014_x86_64.whl (82 kB)\n",
            "Collecting werkzeug>=1.0.1\n",
            "  Downloading werkzeug-3.0.1-py3-none-any.whl (226 kB)\n",
            "Collecting yarl<2.0,>=1.0\n",
            "  Downloading yarl-1.9.3-cp38-cp38-manylinux_2_17_x86_64.manylinux2014_x86_64.whl (307 kB)\n",
            "Collecting zipp>=0.5\n",
            "  Downloading zipp-3.17.0-py3-none-any.whl (7.4 kB)\n",
            "Collecting backports.zoneinfo\n",
            "  Downloading backports.zoneinfo-0.2.1-cp38-cp38-manylinux1_x86_64.whl (74 kB)\n",
            "Collecting filelock\n",
            "  Downloading filelock-3.13.1-py3-none-any.whl (11 kB)\n",
            "Collecting ftfy\n",
            "  Downloading ftfy-6.1.3-py3-none-any.whl (53 kB)\n",
            "Collecting wcwidth<0.3.0,>=0.2.12\n",
            "  Downloading wcwidth-0.2.12-py2.py3-none-any.whl (34 kB)\n",
            "Collecting sacremoses\n",
            "  Downloading sacremoses-0.1.1-py3-none-any.whl (897 kB)\n",
            "Collecting toolz\n",
            "  Downloading toolz-0.12.0-py3-none-any.whl (55 kB)\n",
            "Collecting setuptools==59.5.0\n",
            "  Downloading setuptools-59.5.0-py3-none-any.whl (952 kB)\n",
            "Building wheels for collected packages: pudb, antlr4-python3-runtime, test-tube, future\n",
            "  Building wheel for pudb (setup.py): started\n",
            "  Building wheel for pudb (setup.py): finished with status 'done'\n",
            "  Created wheel for pudb: filename=pudb-2019.2-py3-none-any.whl size=63214 sha256=0ef6c531b329339d4f17e605c4497d8e40e946f51e24429a88e94d9d4e230e78\n",
            "  Stored in directory: /root/.cache/pip/wheels/48/83/f1/d8a09d401e2512bfda01ac9fc1b334885f9ddf51617c1c49f1\n",
            "  Building wheel for antlr4-python3-runtime (setup.py): started\n",
            "  Building wheel for antlr4-python3-runtime (setup.py): finished with status 'done'\n",
            "  Created wheel for antlr4-python3-runtime: filename=antlr4_python3_runtime-4.8-py3-none-any.whl size=141209 sha256=39a171f2dc83583a73e8bc24de6af21e1740dec92f73534c969c7e1765de6e80\n",
            "  Stored in directory: /root/.cache/pip/wheels/c8/d0/ab/d43c02eaddc5b9004db86950802442ad9a26f279c619e28da0\n",
            "  Building wheel for test-tube (setup.py): started\n",
            "  Building wheel for test-tube (setup.py): finished with status 'done'\n",
            "  Created wheel for test-tube: filename=test_tube-0.7.5-py3-none-any.whl size=25327 sha256=bcda26caba30cc00a8b13ac202a12cc5d87e05148fd974f233493a41e705cf3f\n",
            "  Stored in directory: /root/.cache/pip/wheels/95/b0/3a/00ea66dbb0d9ce470ce1bdcb854a6fa030c279c316cb27ca9e\n",
            "  Building wheel for future (setup.py): started\n",
            "  Building wheel for future (setup.py): finished with status 'done'\n",
            "  Created wheel for future: filename=future-0.18.3-py3-none-any.whl size=492024 sha256=663e982f883072ff8d7699018fe675874e0f75ccb1167ab67a606b0f11cae583\n",
            "  Stored in directory: /root/.cache/pip/wheels/a0/0b/ee/e6994fadb42c1354dcccb139b0bf2795271bddfe6253ccdf11\n",
            "Successfully built pudb antlr4-python3-runtime test-tube future\n",
            "Installing collected packages: zipp, urllib3, rpds-py, pyasn1, idna, charset-normalizer, certifi, attrs, rsa, requests, referencing, pyasn1-modules, oauthlib, multidict, importlib-resources, frozenlist, cachetools, yarl, tzdata, threadpoolctl, smmap, scipy, requests-oauthlib, pytz, python-dateutil, pkgutil-resolve-name, pillow, mdurl, MarkupSafe, jsonschema-specifications, joblib, importlib-metadata, google-auth, async-timeout, aiosignal, werkzeug, wcwidth, tqdm, toolz, tifffile, tensorboard-data-server, setuptools, scikit-learn, regex, PyYAML, PyWavelets, pygments, protobuf, pandas, packaging, opencv-python-headless, networkx, markdown-it-py, markdown, lazy-loader, jsonschema, jinja2, imageio, grpcio, google-auth-oauthlib, gitdb, fsspec, filelock, click, backports.zoneinfo, aiohttp, absl-py, watchdog, validators, urwid, tzlocal, tornado, torchmetrics, toml, tokenizers, tensorboard, tenacity, scikit-image, sacremoses, rich, qudida, pyDeprecate, pydeck, pyarrow, huggingface-hub, gitpython, future, ftfy, blinker, antlr4-python3-runtime, altair, transformers, torch-fidelity, test-tube, taming-transformers, streamlit, pytorch-lightning, pudb, opencv-python, omegaconf, latent-diffusion, kornia, imageio-ffmpeg, einops, clip, albumentations\n",
            "  Attempting uninstall: pillow\n",
            "    Found existing installation: Pillow 10.0.1\n",
            "    Uninstalling Pillow-10.0.1:\n",
            "      Successfully uninstalled Pillow-10.0.1\n",
            "  Attempting uninstall: setuptools\n",
            "    Found existing installation: setuptools 68.0.0\n",
            "    Uninstalling setuptools-68.0.0:\n",
            "      Successfully uninstalled setuptools-68.0.0\n",
            "  Running setup.py develop for taming-transformers\n",
            "  Running setup.py develop for latent-diffusion\n",
            "  Running setup.py develop for clip\n",
            "Successfully installed MarkupSafe-2.1.3 PyWavelets-1.4.1 PyYAML-6.0.1 absl-py-2.0.0 aiohttp-3.9.1 aiosignal-1.3.1 albumentations-1.1.0 altair-5.2.0 antlr4-python3-runtime-4.8 async-timeout-4.0.3 attrs-23.1.0 backports.zoneinfo-0.2.1 blinker-1.7.0 cachetools-5.3.2 certifi-2023.11.17 charset-normalizer-3.3.2 click-8.1.7 clip einops-0.4.1 filelock-3.13.1 frozenlist-1.4.0 fsspec-2023.12.1 ftfy-6.1.3 future-0.18.3 gitdb-4.0.11 gitpython-3.1.40 google-auth-2.25.1 google-auth-oauthlib-1.0.0 grpcio-1.59.3 huggingface-hub-0.19.4 idna-3.6 imageio-2.14.1 imageio-ffmpeg-0.4.7 importlib-metadata-6.11.0 importlib-resources-6.1.1 jinja2-3.1.2 joblib-1.3.2 jsonschema-4.20.0 jsonschema-specifications-2023.11.2 kornia-0.6.0 latent-diffusion lazy-loader-0.3 markdown-3.5.1 markdown-it-py-3.0.0 mdurl-0.1.2 multidict-6.0.4 networkx-3.1 oauthlib-3.2.2 omegaconf-2.1.1 opencv-python-4.2.0.34 opencv-python-headless-4.8.1.78 packaging-23.2 pandas-2.0.3 pillow-9.0.1 pkgutil-resolve-name-1.3.10 protobuf-4.25.1 pudb-2019.2 pyDeprecate-0.3.1 pyarrow-14.0.1 pyasn1-0.5.1 pyasn1-modules-0.3.0 pydeck-0.8.1b0 pygments-2.17.2 python-dateutil-2.8.2 pytorch-lightning-1.5.9 pytz-2023.3.post1 qudida-0.0.4 referencing-0.31.1 regex-2023.10.3 requests-2.31.0 requests-oauthlib-1.3.1 rich-13.7.0 rpds-py-0.13.2 rsa-4.9 sacremoses-0.1.1 scikit-image-0.20.0 scikit-learn-1.3.2 scipy-1.9.1 setuptools-59.5.0 smmap-5.0.1 streamlit-1.29.0 taming-transformers tenacity-8.2.3 tensorboard-2.14.0 tensorboard-data-server-0.7.2 test-tube-0.7.5 threadpoolctl-3.2.0 tifffile-2023.7.10 tokenizers-0.12.1 toml-0.10.2 toolz-0.12.0 torch-fidelity-0.3.0 torchmetrics-0.6.0 tornado-6.4 tqdm-4.66.1 transformers-4.18.0 tzdata-2023.3 tzlocal-5.2 urllib3-2.1.0 urwid-2.3.4 validators-0.22.0 watchdog-3.0.0 wcwidth-0.2.12 werkzeug-3.0.1 yarl-1.9.3 zipp-3.17.0\n",
            "\n",
            "done\n",
            "#\n",
            "# To activate this environment, use\n",
            "#\n",
            "#     $ conda activate ldm\n",
            "#\n",
            "# To deactivate an active environment, use\n",
            "#\n",
            "#     $ conda deactivate\n",
            "\n"
          ]
        }
      ]
    },
    {
      "cell_type": "code",
      "source": [
        "!mkdir -p models/ldm/text2img-large/\n",
        "!wget -O models/ldm/text2img-large/model.ckpt https://ommer-lab.com/files/latent-diffusion/nitro/txt2img-f8-large/model.ckpt"
      ],
      "metadata": {
        "colab": {
          "base_uri": "https://localhost:8080/"
        },
        "id": "lUhO4TNYzRji",
        "outputId": "7dea4538-9fca-47f7-c922-fa061fa0391d"
      },
      "execution_count": 12,
      "outputs": [
        {
          "output_type": "stream",
          "name": "stdout",
          "text": [
            "--2023-12-06 06:29:10--  https://ommer-lab.com/files/latent-diffusion/nitro/txt2img-f8-large/model.ckpt\n",
            "Resolving ommer-lab.com (ommer-lab.com)... 141.84.41.65\n",
            "Connecting to ommer-lab.com (ommer-lab.com)|141.84.41.65|:443... connected.\n",
            "HTTP request sent, awaiting response... 200 OK\n",
            "Length: 6152314307 (5.7G)\n",
            "Saving to: ‘models/ldm/text2img-large/model.ckpt’\n",
            "\n",
            "models/ldm/text2img 100%[===================>]   5.73G  30.4MB/s    in 3m 18s  \n",
            "\n",
            "2023-12-06 06:32:28 (29.7 MB/s) - ‘models/ldm/text2img-large/model.ckpt’ saved [6152314307/6152314307]\n",
            "\n"
          ]
        }
      ]
    },
    {
      "cell_type": "code",
      "source": [
        "%%bash\n",
        "source activate ldm\n",
        "python evaluation/clip_eval.py"
      ],
      "metadata": {
        "colab": {
          "base_uri": "https://localhost:8080/"
        },
        "id": "AvZpalBMzHcy",
        "outputId": "b659b60a-a68c-49bd-ccc3-1cd0042eb81e"
      },
      "execution_count": 14,
      "outputs": [
        {
          "output_type": "stream",
          "name": "stdout",
          "text": [
            "CLIP-I :0.9833984375, CLIP-T:0.223388671875\n"
          ]
        }
      ]
    },
    {
      "cell_type": "code",
      "source": [
        "!unzip /content/DDIM_50_steps.zip"
      ],
      "metadata": {
        "colab": {
          "base_uri": "https://localhost:8080/"
        },
        "id": "1eFEUQPg2-93",
        "outputId": "428a4045-7949-4cb2-a831-efbcc84ac654"
      },
      "execution_count": 15,
      "outputs": [
        {
          "output_type": "stream",
          "name": "stdout",
          "text": [
            "Archive:  /content/DDIM_50_steps.zip\n",
            "   creating: DDIM_50_steps/\n",
            "  inflating: DDIM_50_steps/5.png     \n",
            "  inflating: DDIM_50_steps/2.png     \n",
            "  inflating: DDIM_50_steps/0.png     \n",
            "  inflating: DDIM_50_steps/4.png     \n",
            "  inflating: DDIM_50_steps/1.png     \n",
            "  inflating: DDIM_50_steps/3.png     \n"
          ]
        }
      ]
    },
    {
      "cell_type": "code",
      "source": [
        "!unzip /content/DDIM_80_steps.zip\n",
        "!unzip /content/PNDM_50_steps.zip\n",
        "!unzip /content/PNDM_80_steps.zip\n",
        "!unzip /content/DDIM_50_steps_prior.zip\n",
        "!unzip /content/DDIM_80_steps_prior.zip\n",
        "!unzip /content/PNDM_50_steps_prior.zip\n",
        "!unzip /content/PNDM_80_steps_prior.zip\n"
      ],
      "metadata": {
        "id": "7T5gCDrT6ASu"
      },
      "execution_count": null,
      "outputs": []
    },
    {
      "cell_type": "code",
      "source": [
        "!wget https://raw.githubusercontent.com/rajlm10/dreambooth_lora_merging/main/eval.py\n",
        "!mv /content/Dreambooth-Stable-Diffusion/eval.py /content/Dreambooth-Stable-Diffusion/evaluation/\n"
      ],
      "metadata": {
        "colab": {
          "base_uri": "https://localhost:8080/"
        },
        "id": "wEvoALCp8X-Y",
        "outputId": "2ae50ca1-21d5-49e4-ba35-8894d2dc947c"
      },
      "execution_count": 33,
      "outputs": [
        {
          "output_type": "stream",
          "name": "stdout",
          "text": [
            "--2023-12-06 07:07:27--  https://raw.githubusercontent.com/rajlm10/dreambooth_lora_merging/main/eval.py\n",
            "Resolving raw.githubusercontent.com (raw.githubusercontent.com)... 185.199.109.133, 185.199.110.133, 185.199.108.133, ...\n",
            "Connecting to raw.githubusercontent.com (raw.githubusercontent.com)|185.199.109.133|:443... connected.\n",
            "HTTP request sent, awaiting response... 200 OK\n",
            "Length: 6208 (6.1K) [text/plain]\n",
            "Saving to: ‘eval.py’\n",
            "\n",
            "\reval.py               0%[                    ]       0  --.-KB/s               \reval.py             100%[===================>]   6.06K  --.-KB/s    in 0s      \n",
            "\n",
            "2023-12-06 07:07:27 (67.7 MB/s) - ‘eval.py’ saved [6208/6208]\n",
            "\n"
          ]
        }
      ]
    },
    {
      "cell_type": "markdown",
      "source": [
        "#DDIM No Prior Preservation"
      ],
      "metadata": {
        "id": "2dirddMo6YDh"
      }
    },
    {
      "cell_type": "markdown",
      "source": [
        "##50 steps"
      ],
      "metadata": {
        "id": "FM9hsKtw6Zkr"
      }
    },
    {
      "cell_type": "code",
      "source": [
        "%%bash\n",
        "source activate ldm\n",
        "\n",
        "python evaluation/eval.py \\\n",
        "--gen_samples=\"/content/Dreambooth-Stable-Diffusion/DDIM_50_steps\" \\\n",
        "--src_images=\"/content/raj\" \\\n",
        "--target_text=\"A photo of a rraj person\""
      ],
      "metadata": {
        "colab": {
          "base_uri": "https://localhost:8080/"
        },
        "id": "bQMhADvR3CRU",
        "outputId": "cf972cba-e12e-4498-f951-e7972834b681"
      },
      "execution_count": 23,
      "outputs": [
        {
          "output_type": "stream",
          "name": "stdout",
          "text": [
            "Argument values:\n",
            "/content/Dreambooth-Stable-Diffusion/DDIM_50_steps\n",
            "/content/raj\n",
            "A photo of a rraj person\n",
            "\n",
            "CLIP-I :0.9580078125, CLIP-T:0.206298828125\n"
          ]
        }
      ]
    },
    {
      "cell_type": "markdown",
      "source": [
        "##80 Steps"
      ],
      "metadata": {
        "id": "9LTl61ka6cr7"
      }
    },
    {
      "cell_type": "code",
      "source": [
        "%%bash\n",
        "source activate ldm\n",
        "\n",
        "python evaluation/eval.py \\\n",
        "--gen_samples=\"/content/Dreambooth-Stable-Diffusion/DDIM_80_steps\" \\\n",
        "--src_images=\"/content/raj\" \\\n",
        "--target_text=\"A photo of a rraj person\""
      ],
      "metadata": {
        "colab": {
          "base_uri": "https://localhost:8080/"
        },
        "id": "UBG7IIM664WE",
        "outputId": "5414f354-5fc4-46a3-fcf1-9aa8bf6d521a"
      },
      "execution_count": 25,
      "outputs": [
        {
          "output_type": "stream",
          "name": "stdout",
          "text": [
            "Argument values:\n",
            "/content/Dreambooth-Stable-Diffusion/DDIM_80_steps\n",
            "/content/raj\n",
            "A photo of a rraj person\n",
            "\n",
            "CLIP-I :0.96630859375, CLIP-T:0.206298828125\n"
          ]
        }
      ]
    },
    {
      "cell_type": "markdown",
      "source": [
        "#PNDM No Prior Preservation"
      ],
      "metadata": {
        "id": "lKdMWMrf6ew4"
      }
    },
    {
      "cell_type": "markdown",
      "source": [
        "##50 Steps"
      ],
      "metadata": {
        "id": "Mc15tv3f6g9R"
      }
    },
    {
      "cell_type": "code",
      "source": [
        "%%bash\n",
        "source activate ldm\n",
        "\n",
        "python evaluation/eval.py \\\n",
        "--gen_samples=\"/content/Dreambooth-Stable-Diffusion/PNDM_50_steps\" \\\n",
        "--src_images=\"/content/raj\" \\\n",
        "--target_text=\"A photo of a rraj person\""
      ],
      "metadata": {
        "colab": {
          "base_uri": "https://localhost:8080/"
        },
        "id": "ej_Tf0E468CA",
        "outputId": "4f7429fa-89ff-406f-f143-88324bf86748"
      },
      "execution_count": 26,
      "outputs": [
        {
          "output_type": "stream",
          "name": "stdout",
          "text": [
            "Argument values:\n",
            "/content/Dreambooth-Stable-Diffusion/PNDM_50_steps\n",
            "/content/raj\n",
            "A photo of a rraj person\n",
            "\n",
            "CLIP-I :0.97607421875, CLIP-T:0.206298828125\n"
          ]
        }
      ]
    },
    {
      "cell_type": "markdown",
      "source": [
        "##80 steps"
      ],
      "metadata": {
        "id": "u2esfSyT6iFk"
      }
    },
    {
      "cell_type": "code",
      "source": [
        "%%bash\n",
        "source activate ldm\n",
        "\n",
        "python evaluation/eval.py \\\n",
        "--gen_samples=\"/content/Dreambooth-Stable-Diffusion/PNDM_80_steps\" \\\n",
        "--src_images=\"/content/raj\" \\\n",
        "--target_text=\"A photo of a rraj person\""
      ],
      "metadata": {
        "colab": {
          "base_uri": "https://localhost:8080/"
        },
        "id": "X5ZJpmS97B-3",
        "outputId": "6dda8963-a234-4bf1-e65e-3f8c93856626"
      },
      "execution_count": 27,
      "outputs": [
        {
          "output_type": "stream",
          "name": "stdout",
          "text": [
            "Argument values:\n",
            "/content/Dreambooth-Stable-Diffusion/PNDM_80_steps\n",
            "/content/raj\n",
            "A photo of a rraj person\n",
            "\n",
            "CLIP-I :0.97509765625, CLIP-T:0.206298828125\n"
          ]
        }
      ]
    },
    {
      "cell_type": "markdown",
      "source": [
        "#DDIM Prior Preservation"
      ],
      "metadata": {
        "id": "E6q0KcC06jQw"
      }
    },
    {
      "cell_type": "markdown",
      "source": [
        "##50 steps"
      ],
      "metadata": {
        "id": "9YN0soMu6lkH"
      }
    },
    {
      "cell_type": "code",
      "source": [
        "%%bash\n",
        "source activate ldm\n",
        "\n",
        "python evaluation/eval.py \\\n",
        "--gen_samples=\"/content/Dreambooth-Stable-Diffusion/DDIM_50_steps_prior\" \\\n",
        "--src_images=\"/content/raj\" \\\n",
        "--target_text=\"A photo of a rraj person\""
      ],
      "metadata": {
        "colab": {
          "base_uri": "https://localhost:8080/"
        },
        "id": "N_JhxUWg7EKw",
        "outputId": "a472421d-ae77-4412-bb34-e2c6dad1e55b"
      },
      "execution_count": 28,
      "outputs": [
        {
          "output_type": "stream",
          "name": "stdout",
          "text": [
            "Argument values:\n",
            "/content/Dreambooth-Stable-Diffusion/DDIM_50_steps_prior\n",
            "/content/raj\n",
            "A photo of a rraj person\n",
            "\n",
            "CLIP-I :0.97607421875, CLIP-T:0.206298828125\n"
          ]
        }
      ]
    },
    {
      "cell_type": "markdown",
      "source": [
        "##80 steps"
      ],
      "metadata": {
        "id": "oDlizPg86nXK"
      }
    },
    {
      "cell_type": "code",
      "source": [
        "%%bash\n",
        "source activate ldm\n",
        "\n",
        "python evaluation/eval.py \\\n",
        "--gen_samples=\"/content/Dreambooth-Stable-Diffusion/DDIM_80_steps_prior\" \\\n",
        "--src_images=\"/content/raj\" \\\n",
        "--target_text=\"A photo of a rraj person\""
      ],
      "metadata": {
        "colab": {
          "base_uri": "https://localhost:8080/"
        },
        "id": "A3mktE0g7JA2",
        "outputId": "0d96dbff-d97e-4cfe-ea2c-529000f83e35"
      },
      "execution_count": 29,
      "outputs": [
        {
          "output_type": "stream",
          "name": "stdout",
          "text": [
            "Argument values:\n",
            "/content/Dreambooth-Stable-Diffusion/DDIM_80_steps_prior\n",
            "/content/raj\n",
            "A photo of a rraj person\n",
            "\n",
            "CLIP-I :0.96826171875, CLIP-T:0.206298828125\n"
          ]
        }
      ]
    },
    {
      "cell_type": "markdown",
      "source": [
        "#PNDM Prior Preservation"
      ],
      "metadata": {
        "id": "aRaLt_E06oic"
      }
    },
    {
      "cell_type": "markdown",
      "source": [
        "##50 steps"
      ],
      "metadata": {
        "id": "NhDN_KvZ6y1F"
      }
    },
    {
      "cell_type": "code",
      "source": [
        "%%bash\n",
        "source activate ldm\n",
        "\n",
        "python evaluation/eval.py \\\n",
        "--gen_samples=\"/content/Dreambooth-Stable-Diffusion/PNDM_50_steps_prior\" \\\n",
        "--src_images=\"/content/raj\" \\\n",
        "--target_text=\"A photo of a rraj person\""
      ],
      "metadata": {
        "colab": {
          "base_uri": "https://localhost:8080/"
        },
        "id": "0W7Z0JVg7Lxs",
        "outputId": "69215236-b00d-4e0f-a505-bc265f9cac60"
      },
      "execution_count": 30,
      "outputs": [
        {
          "output_type": "stream",
          "name": "stdout",
          "text": [
            "Argument values:\n",
            "/content/Dreambooth-Stable-Diffusion/PNDM_50_steps_prior\n",
            "/content/raj\n",
            "A photo of a rraj person\n",
            "\n",
            "CLIP-I :0.97021484375, CLIP-T:0.206298828125\n"
          ]
        }
      ]
    },
    {
      "cell_type": "markdown",
      "source": [
        "##80 steps"
      ],
      "metadata": {
        "id": "g2Mwj36V6189"
      }
    },
    {
      "cell_type": "code",
      "source": [
        "%%bash\n",
        "source activate ldm\n",
        "\n",
        "python evaluation/eval.py \\\n",
        "--gen_samples=\"/content/Dreambooth-Stable-Diffusion/PNDM_80_steps_prior\" \\\n",
        "--src_images=\"/content/raj\" \\\n",
        "--target_text=\"A photo of a rraj person\""
      ],
      "metadata": {
        "colab": {
          "base_uri": "https://localhost:8080/"
        },
        "id": "aYfpy1Cs7M_H",
        "outputId": "58718ecd-eefe-4a20-acee-0df5fcbb5d10"
      },
      "execution_count": 31,
      "outputs": [
        {
          "output_type": "stream",
          "name": "stdout",
          "text": [
            "Argument values:\n",
            "/content/Dreambooth-Stable-Diffusion/PNDM_80_steps_prior\n",
            "/content/raj\n",
            "A photo of a rraj person\n",
            "\n",
            "CLIP-I :0.96875, CLIP-T:0.206298828125\n"
          ]
        }
      ]
    },
    {
      "cell_type": "markdown",
      "source": [
        "#Summary\n",
        "\n",
        "| Scheduler | Steps | Prior Preservation | CLIP-I |\n",
        "|-----------|-------|--------------------|--------|\n",
        "| DDIM      | 50    | No                 | 0.9580 |\n",
        "| DDIM      | 50    | Yes                | 0.9760 |\n",
        "| DDIM      | 80    | No                 | 0.9663 |\n",
        "| DDIM      | 80    | Yes                | 0.9683 |\n",
        "| PNDM      | 50    | No                 | 0.9761 |\n",
        "| PNDM      | 50    | Yes                | 0.9702 |\n",
        "| PNDM      | 80    | No                 | 0.9751 |\n",
        "| PNDM      | 80    | Yes                | 0.9688 |"
      ],
      "metadata": {
        "id": "BEewZSc1-FGe"
      }
    }
  ]
}